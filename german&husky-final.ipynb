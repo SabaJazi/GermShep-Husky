{
 "cells": [
  {
   "cell_type": "code",
   "execution_count": 1,
   "metadata": {},
   "outputs": [
    {
     "name": "stdout",
     "output_type": "stream",
     "text": [
      "2.3.1\n"
     ]
    }
   ],
   "source": [
    "import tensorflow as tf\n",
    "print(tf.__version__)"
   ]
  },
  {
   "cell_type": "code",
   "execution_count": 3,
   "metadata": {},
   "outputs": [
    {
     "name": "stdout",
     "output_type": "stream",
     "text": [
      "2.3.1\n"
     ]
    }
   ],
   "source": [
    "import keras\n",
    "print(tf.__version__)"
   ]
  },
  {
   "cell_type": "code",
   "execution_count": 4,
   "metadata": {},
   "outputs": [],
   "source": [
    "import os\n",
    "from os import mkdir\n",
    "import shutil\n",
    "from shutil import copyfile \n",
    "import image\n",
    "import PIL"
   ]
  },
  {
   "cell_type": "code",
   "execution_count": 5,
   "metadata": {},
   "outputs": [
    {
     "data": {
      "text/plain": [
       "\"\\n# Copy first 1200 german images to train_german_dir\\n\\nfnames = ['german ({}).jpeg'.format(i) for i in range(1,1200)]\\nfor fname in fnames:\\n    src = os.path.join(original_dataset_dir, fname)\\n    dst = os.path.join(train_german_dir, fname)\\n    copyfile(src, dst)\\n\\n# Copy next 270 german images to validation_german_dir\\nfnames = ['german ({}).jpeg'.format(i) for i in range(1200, 1470)]\\nfor fname in fnames:\\n    src = os.path.join(original_dataset_dir, fname)\\n    dst = os.path.join(validation_german_dir, fname)\\n    copyfile(src, dst)\\n\\n# Copy next 270 german images to test_german_dir\\nfnames = ['german ({}).jpeg'.format(i) for i in range(1470, 1741)]\\nfor fname in fnames:\\n    src = os.path.join(original_dataset_dir, fname)\\n    dst = os.path.join(test_german_dir, fname)\\n    copyfile(src, dst)\\n\\n# Copy first 1100 husky images to train_husky_dir\\nfnames = ['husky ({}).jpeg'.format(i) for i in range(1,1100)]\\nfor fname in fnames:\\n    src = os.path.join(original_dataset_dir, fname)\\n    dst = os.path.join(train_husky_dir, fname)\\n    copyfile(src, dst)\\n\\n# Copy next 221 husky images to validation_husky_dir\\nfnames = ['husky ({}).jpeg'.format(i) for i in range(1100, 1321)]\\nfor fname in fnames:\\n    src = os.path.join(original_dataset_dir, fname)\\n    dst = os.path.join(validation_husky_dir, fname)\\n    copyfile(src, dst)\\n\\n# Copy next 221 husky images to test_husky_dir\\nfnames = ['husky ({}).jpeg'.format(i) for i in range(1321, 1542)]\\nfor fname in fnames:\\n    src = os.path.join(original_dataset_dir, fname)\\n    dst = os.path.join(test_husky_dir, fname)\\n    copyfile(src, dst)\\n\\n\""
      ]
     },
     "execution_count": 5,
     "metadata": {},
     "output_type": "execute_result"
    }
   ],
   "source": [
    "\n",
    "\n",
    "\n",
    "\n",
    "# The path to the directory where the original\n",
    "# dataset was uncompressed\n",
    "\n",
    "\n",
    "#original_dataset_dir = '/content/drive/My Drive/train/train'\n",
    "\n",
    "original_dataset_dir='D:\\\\0-Fall-2020\\\\Machine learning\\\\Imagenet datasets\\\\main-dataset'\n",
    "\n",
    "# The directory where we will\n",
    "# store our smaller dataset\n",
    "\n",
    "\n",
    "#base_dir = '/content/drive/My Drive/new_sets'\n",
    "\n",
    "base_dir = 'D:\\\\0-Fall-2020\\\\Machine learning\\\\Imagenet datasets\\\\new_sets'\n",
    "\n",
    "#os.mkdir(base_dir)\n",
    "\n",
    "# Directories for our training,\n",
    "# validation and test splits\n",
    "train_dir = os.path.join(base_dir, 'train')\n",
    "#os.mkdir(train_dir)\n",
    "\n",
    "validation_dir = os.path.join(base_dir, 'validation')\n",
    "#os.mkdir(validation_dir)\n",
    "\n",
    "test_dir = os.path.join(base_dir, 'test')\n",
    "#os.mkdir(test_dir)\n",
    "\n",
    "# Directory with our training german pictures\n",
    "train_german_dir = os.path.join(train_dir, 'german')\n",
    "#os.mkdir(train_german_dir)\n",
    "\n",
    "# Directory with our training husky pictures\n",
    "train_husky_dir = os.path.join(train_dir, 'husky')\n",
    "#os.mkdir(train_husky_dir)\n",
    "\n",
    "# Directory with our validation german pictures\n",
    "validation_german_dir = os.path.join(validation_dir, 'german')\n",
    "#os.mkdir(validation_german_dir)\n",
    "\n",
    "# Directory with our validation husky pictures\n",
    "validation_husky_dir = os.path.join(validation_dir, 'husky')\n",
    "#os.mkdir(validation_husky_dir)\n",
    "\n",
    "# Directory with our validation german pictures\n",
    "test_german_dir = os.path.join(test_dir, 'german')\n",
    "#os.mkdir(test_german_dir)\n",
    "\n",
    "# Directory with our validation husky pictures\n",
    "test_husky_dir = os.path.join(test_dir, 'husky')\n",
    "#os.mkdir(test_husky_dir)\n",
    "'''\n",
    "# Copy first 1200 german images to train_german_dir\n",
    "\n",
    "fnames = ['german ({}).jpeg'.format(i) for i in range(1,1200)]\n",
    "for fname in fnames:\n",
    "    src = os.path.join(original_dataset_dir, fname)\n",
    "    dst = os.path.join(train_german_dir, fname)\n",
    "    copyfile(src, dst)\n",
    "\n",
    "# Copy next 270 german images to validation_german_dir\n",
    "fnames = ['german ({}).jpeg'.format(i) for i in range(1200, 1470)]\n",
    "for fname in fnames:\n",
    "    src = os.path.join(original_dataset_dir, fname)\n",
    "    dst = os.path.join(validation_german_dir, fname)\n",
    "    copyfile(src, dst)\n",
    "\n",
    "# Copy next 270 german images to test_german_dir\n",
    "fnames = ['german ({}).jpeg'.format(i) for i in range(1470, 1741)]\n",
    "for fname in fnames:\n",
    "    src = os.path.join(original_dataset_dir, fname)\n",
    "    dst = os.path.join(test_german_dir, fname)\n",
    "    copyfile(src, dst)\n",
    "\n",
    "# Copy first 1100 husky images to train_husky_dir\n",
    "fnames = ['husky ({}).jpeg'.format(i) for i in range(1,1100)]\n",
    "for fname in fnames:\n",
    "    src = os.path.join(original_dataset_dir, fname)\n",
    "    dst = os.path.join(train_husky_dir, fname)\n",
    "    copyfile(src, dst)\n",
    "\n",
    "# Copy next 221 husky images to validation_husky_dir\n",
    "fnames = ['husky ({}).jpeg'.format(i) for i in range(1100, 1321)]\n",
    "for fname in fnames:\n",
    "    src = os.path.join(original_dataset_dir, fname)\n",
    "    dst = os.path.join(validation_husky_dir, fname)\n",
    "    copyfile(src, dst)\n",
    "\n",
    "# Copy next 221 husky images to test_husky_dir\n",
    "fnames = ['husky ({}).jpeg'.format(i) for i in range(1321, 1542)]\n",
    "for fname in fnames:\n",
    "    src = os.path.join(original_dataset_dir, fname)\n",
    "    dst = os.path.join(test_husky_dir, fname)\n",
    "    copyfile(src, dst)\n",
    "\n",
    "'''    "
   ]
  },
  {
   "cell_type": "code",
   "execution_count": 6,
   "metadata": {},
   "outputs": [
    {
     "name": "stdout",
     "output_type": "stream",
     "text": [
      "number german images for  training : 1200\n",
      "number husky images for training : 1100\n",
      "number german images for validation : 270\n",
      "number husky images for validation : 221\n",
      "number german images for test : 270\n",
      "number husky  for images test : 220\n"
     ]
    }
   ],
   "source": [
    "print('number german images for  training :', len(os.listdir(train_german_dir)))\n",
    "print('number husky images for training :', len(os.listdir(train_husky_dir)))\n",
    "print('number german images for validation :', len(os.listdir(validation_german_dir)))\n",
    "print('number husky images for validation :', len(os.listdir(validation_husky_dir)))\n",
    "print('number german images for test :', len(os.listdir(test_german_dir)))\n",
    "print('number husky  for images test :', len(os.listdir(test_husky_dir)))"
   ]
  },
  {
   "cell_type": "code",
   "execution_count": 21,
   "metadata": {},
   "outputs": [
    {
     "name": "stdout",
     "output_type": "stream",
     "text": [
      "Found 2300 images belonging to 2 classes.\n",
      "Found 491 images belonging to 2 classes.\n"
     ]
    }
   ],
   "source": [
    "#Standardize the data\n",
    "from keras.preprocessing.image import ImageDataGenerator\n",
    "\n",
    "# All images will be rescaled by 1./255\n",
    "train = ImageDataGenerator(rescale=1./255)\n",
    "val = ImageDataGenerator(rescale=1./255)\n",
    "\n",
    "train_generator = train.flow_from_directory(\n",
    "        # This is the target directory\n",
    "        train_dir,\n",
    "        # All images will be resized to 150x150\n",
    "        target_size=(150, 150),\n",
    "        batch_size=20,\n",
    "        # Since we use binary_crossentropy loss, we need binary labels\n",
    "        class_mode='binary')\n",
    "\n",
    "validation_generator = val.flow_from_directory(\n",
    "        validation_dir,\n",
    "        target_size=(150, 150),\n",
    "        batch_size=10,\n",
    "        class_mode='binary')"
   ]
  },
  {
   "cell_type": "code",
   "execution_count": 22,
   "metadata": {},
   "outputs": [
    {
     "name": "stdout",
     "output_type": "stream",
     "text": [
      "Model: \"sequential_1\"\n",
      "_________________________________________________________________\n",
      "Layer (type)                 Output Shape              Param #   \n",
      "=================================================================\n",
      "conv2d_4 (Conv2D)            (None, 148, 148, 32)      896       \n",
      "_________________________________________________________________\n",
      "max_pooling2d_4 (MaxPooling2 (None, 74, 74, 32)        0         \n",
      "_________________________________________________________________\n",
      "conv2d_5 (Conv2D)            (None, 72, 72, 64)        18496     \n",
      "_________________________________________________________________\n",
      "max_pooling2d_5 (MaxPooling2 (None, 36, 36, 64)        0         \n",
      "_________________________________________________________________\n",
      "conv2d_6 (Conv2D)            (None, 34, 34, 128)       73856     \n",
      "_________________________________________________________________\n",
      "max_pooling2d_6 (MaxPooling2 (None, 17, 17, 128)       0         \n",
      "_________________________________________________________________\n",
      "conv2d_7 (Conv2D)            (None, 15, 15, 128)       147584    \n",
      "_________________________________________________________________\n",
      "max_pooling2d_7 (MaxPooling2 (None, 7, 7, 128)         0         \n",
      "_________________________________________________________________\n",
      "flatten_1 (Flatten)          (None, 6272)              0         \n",
      "_________________________________________________________________\n",
      "dense_2 (Dense)              (None, 512)               3211776   \n",
      "_________________________________________________________________\n",
      "dense_3 (Dense)              (None, 1)                 513       \n",
      "=================================================================\n",
      "Total params: 3,453,121\n",
      "Trainable params: 3,453,121\n",
      "Non-trainable params: 0\n",
      "_________________________________________________________________\n"
     ]
    }
   ],
   "source": [
    "#build model\n",
    "from keras import layers\n",
    "from keras import models\n",
    "\n",
    "model = models.Sequential()\n",
    "model.add(layers.Conv2D(32, (3, 3), activation='relu',\n",
    "                        input_shape=(150, 150, 3)))\n",
    "model.add(layers.MaxPooling2D((2, 2)))\n",
    "model.add(layers.Conv2D(64, (3, 3), activation='relu'))\n",
    "model.add(layers.MaxPooling2D((2, 2)))\n",
    "model.add(layers.Conv2D(128, (3, 3), activation='relu'))\n",
    "model.add(layers.MaxPooling2D((2, 2)))\n",
    "model.add(layers.Conv2D(128, (3, 3), activation='relu'))\n",
    "model.add(layers.MaxPooling2D((2, 2)))\n",
    "model.add(layers.Flatten())\n",
    "model.add(layers.Dense(512, activation='relu'))\n",
    "model.add(layers.Dense(1, activation='sigmoid'))\n",
    "model.summary()"
   ]
  },
  {
   "cell_type": "code",
   "execution_count": 23,
   "metadata": {},
   "outputs": [],
   "source": [
    "from keras import optimizers\n",
    "\n",
    "model.compile(loss='binary_crossentropy',\n",
    "              optimizer=optimizers.RMSprop(lr=1e-4),\n",
    "              metrics=['acc'])"
   ]
  },
  {
   "cell_type": "code",
   "execution_count": 35,
   "metadata": {},
   "outputs": [
    {
     "name": "stdout",
     "output_type": "stream",
     "text": [
      "Requirement already satisfied: pillow in c:\\users\\temp\\anaconda3\\envs\\tf\\lib\\site-packages (8.0.1)\n"
     ]
    }
   ],
   "source": [
    "!pip install pillow"
   ]
  },
  {
   "cell_type": "code",
   "execution_count": 15,
   "metadata": {},
   "outputs": [
    {
     "name": "stdout",
     "output_type": "stream",
     "text": [
      "Collecting matplotlib\n",
      "  Downloading matplotlib-3.3.3-cp37-cp37m-win_amd64.whl (8.5 MB)\n",
      "Requirement already satisfied: python-dateutil>=2.1 in c:\\users\\temp\\anaconda3\\envs\\tf\\lib\\site-packages (from matplotlib) (2.8.1)\n",
      "Requirement already satisfied: numpy>=1.15 in c:\\users\\temp\\anaconda3\\envs\\tf\\lib\\site-packages (from matplotlib) (1.18.5)\n",
      "Requirement already satisfied: pillow>=6.2.0 in c:\\users\\temp\\anaconda3\\envs\\tf\\lib\\site-packages (from matplotlib) (8.0.1)\n",
      "Collecting cycler>=0.10\n",
      "  Using cached cycler-0.10.0-py2.py3-none-any.whl (6.5 kB)\n",
      "Requirement already satisfied: pyparsing!=2.0.4,!=2.1.2,!=2.1.6,>=2.0.3 in c:\\users\\temp\\anaconda3\\envs\\tf\\lib\\site-packages (from matplotlib) (2.4.7)\n",
      "Collecting kiwisolver>=1.0.1\n",
      "  Downloading kiwisolver-1.3.1-cp37-cp37m-win_amd64.whl (51 kB)\n",
      "Requirement already satisfied: six>=1.5 in c:\\users\\temp\\anaconda3\\envs\\tf\\lib\\site-packages (from python-dateutil>=2.1->matplotlib) (1.15.0)\n",
      "Installing collected packages: cycler, kiwisolver, matplotlib\n",
      "Successfully installed cycler-0.10.0 kiwisolver-1.3.1 matplotlib-3.3.3\n"
     ]
    }
   ],
   "source": [
    "!pip install matplotlib"
   ]
  },
  {
   "cell_type": "code",
   "execution_count": 24,
   "metadata": {},
   "outputs": [
    {
     "name": "stdout",
     "output_type": "stream",
     "text": [
      "Epoch 1/20\n",
      "50/50 [==============================] - 57s 1s/step - loss: 0.6689 - acc: 0.6050 - val_loss: 0.6388 - val_acc: 0.5967\n",
      "Epoch 2/20\n",
      "50/50 [==============================] - 60s 1s/step - loss: 0.5932 - acc: 0.6970 - val_loss: 0.6565 - val_acc: 0.6267\n",
      "Epoch 3/20\n",
      "50/50 [==============================] - 54s 1s/step - loss: 0.5711 - acc: 0.7140 - val_loss: 0.5632 - val_acc: 0.7233\n",
      "Epoch 4/20\n",
      "50/50 [==============================] - 58s 1s/step - loss: 0.5599 - acc: 0.7200 - val_loss: 0.5427 - val_acc: 0.7467\n",
      "Epoch 5/20\n",
      "50/50 [==============================] - 55s 1s/step - loss: 0.5388 - acc: 0.7280 - val_loss: 0.6377 - val_acc: 0.6667\n",
      "Epoch 6/20\n",
      "50/50 [==============================] - 53s 1s/step - loss: 0.5343 - acc: 0.7390 - val_loss: 0.5235 - val_acc: 0.7467\n",
      "Epoch 7/20\n",
      "50/50 [==============================] - 56s 1s/step - loss: 0.5450 - acc: 0.7420 - val_loss: 0.5165 - val_acc: 0.7667\n",
      "Epoch 8/20\n",
      "50/50 [==============================] - 62s 1s/step - loss: 0.5059 - acc: 0.7570 - val_loss: 0.5550 - val_acc: 0.7200\n",
      "Epoch 9/20\n",
      "50/50 [==============================] - 60s 1s/step - loss: 0.5034 - acc: 0.7470 - val_loss: 0.5503 - val_acc: 0.7400\n",
      "Epoch 10/20\n",
      "50/50 [==============================] - 51s 1s/step - loss: 0.4930 - acc: 0.7680 - val_loss: 0.5335 - val_acc: 0.7633\n",
      "Epoch 11/20\n",
      "50/50 [==============================] - 49s 975ms/step - loss: 0.4790 - acc: 0.7690 - val_loss: 0.4945 - val_acc: 0.7633\n",
      "Epoch 12/20\n",
      "50/50 [==============================] - 54s 1s/step - loss: 0.4579 - acc: 0.7750 - val_loss: 0.5202 - val_acc: 0.7733\n",
      "Epoch 13/20\n",
      "50/50 [==============================] - 55s 1s/step - loss: 0.4670 - acc: 0.7840 - val_loss: 0.4888 - val_acc: 0.7733\n",
      "Epoch 14/20\n",
      "50/50 [==============================] - 54s 1s/step - loss: 0.4677 - acc: 0.7810 - val_loss: 0.5792 - val_acc: 0.7400\n",
      "Epoch 15/20\n",
      "50/50 [==============================] - 51s 1s/step - loss: 0.4616 - acc: 0.7730 - val_loss: 0.5219 - val_acc: 0.7733\n",
      "Epoch 16/20\n",
      "50/50 [==============================] - 52s 1s/step - loss: 0.4406 - acc: 0.7930 - val_loss: 0.5129 - val_acc: 0.7367\n",
      "Epoch 17/20\n",
      "50/50 [==============================] - 52s 1s/step - loss: 0.4196 - acc: 0.8140 - val_loss: 0.5482 - val_acc: 0.7500\n",
      "Epoch 18/20\n",
      "50/50 [==============================] - 51s 1s/step - loss: 0.4290 - acc: 0.8130 - val_loss: 0.5719 - val_acc: 0.7167\n",
      "Epoch 19/20\n",
      "50/50 [==============================] - 53s 1s/step - loss: 0.4249 - acc: 0.8070 - val_loss: 0.5473 - val_acc: 0.7600\n",
      "Epoch 20/20\n",
      "50/50 [==============================] - 54s 1s/step - loss: 0.4007 - acc: 0.8210 - val_loss: 0.5516 - val_acc: 0.7433\n"
     ]
    }
   ],
   "source": [
    "#fit model \n",
    "import PIL\n",
    "#history = model.fit_generator(\n",
    "history = model.fit(\n",
    "      train_generator,\n",
    "      steps_per_epoch=50,\n",
    "      epochs=20,\n",
    "      validation_data=validation_generator,\n",
    "      validation_steps=30)"
   ]
  },
  {
   "cell_type": "code",
   "execution_count": 25,
   "metadata": {},
   "outputs": [
    {
     "data": {
      "image/png": "[encoded data removed]",
      "text/plain": [
       "<Figure size 432x288 with 1 Axes>"
      ]
     },
     "metadata": {
      "needs_background": "light"
     },
     "output_type": "display_data"
    },
    {
     "data": {
      "image/png": "[encoded data removed]",
      "text/plain": [
       "<Figure size 432x288 with 1 Axes>"
      ]
     },
     "metadata": {
      "needs_background": "light"
     },
     "output_type": "display_data"
    }
   ],
   "source": [
    "import matplotlib.pyplot as plt\n",
    "def plot_graphs(fname, history, metric):\n",
    "    plt.plot(history.history[metric])\n",
    "    plt.xlabel(\"Epochs\")\n",
    "    plt.ylabel(metric)\n",
    "    plt.legend([metric, 'val_'+metric])\n",
    "    plt.show()\n",
    "    plt.close()\n",
    "\n",
    "plot_graphs(\"loss\", history, 'loss')\n",
    "plot_graphs(\"acc\", history, 'acc')"
   ]
  },
  {
   "cell_type": "code",
   "execution_count": 26,
   "metadata": {},
   "outputs": [
    {
     "data": {
      "image/png": "[encoded data removed]",
      "text/plain": [
       "<Figure size 432x288 with 1 Axes>"
      ]
     },
     "metadata": {
      "needs_background": "light"
     },
     "output_type": "display_data"
    },
    {
     "data": {
      "image/png": "[encoded data removed]",
      "text/plain": [
       "<Figure size 432x288 with 1 Axes>"
      ]
     },
     "metadata": {
      "needs_background": "light"
     },
     "output_type": "display_data"
    }
   ],
   "source": [
    "acc = history.history['acc']\n",
    "val_acc = history.history['val_acc']\n",
    "loss = history.history['loss']\n",
    "val_loss = history.history['val_loss']\n",
    "\n",
    "epochs = range(len(acc))\n",
    "\n",
    "plt.plot(epochs, acc, 'bo', label='Training acc')\n",
    "plt.plot(epochs, val_acc, 'b', label='Validation acc')\n",
    "plt.title('Training and validation accuracy')\n",
    "plt.legend()\n",
    "\n",
    "plt.figure()\n",
    "\n",
    "plt.plot(epochs, loss, 'bo', label='Training loss')\n",
    "plt.plot(epochs, val_loss, 'b', label='Validation loss')\n",
    "plt.title('Training and validation loss')\n",
    "plt.legend()\n",
    "\n",
    "plt.show()"
   ]
  },
  {
   "cell_type": "code",
   "execution_count": 27,
   "metadata": {},
   "outputs": [
    {
     "name": "stdout",
     "output_type": "stream",
     "text": [
      "Found 490 images belonging to 2 classes.\n",
      "41/41 [==============================] - 9s 211ms/step - loss: 0.5378 - acc: 0.7551 3s - loss: 0.5\n"
     ]
    },
    {
     "data": {
      "text/plain": [
       "[0.5377910137176514, 0.7551020383834839]"
      ]
     },
     "execution_count": 27,
     "metadata": {},
     "output_type": "execute_result"
    }
   ],
   "source": [
    "test_generator = val.flow_from_directory(\n",
    "        test_dir,\n",
    "        target_size=(150, 150),\n",
    "        batch_size=12,\n",
    "        class_mode='binary')\n",
    "\n",
    "model.evaluate(test_generator) \n"
   ]
  }
 ],
 "metadata": {
  "kernelspec": {
   "display_name": "Python 3",
   "language": "python",
   "name": "python3"
  },
  "language_info": {
   "codemirror_mode": {
    "name": "ipython",
    "version": 3
   },
   "file_extension": ".py",
   "mimetype": "text/x-python",
   "name": "python",
   "nbconvert_exporter": "python",
   "pygments_lexer": "ipython3",
   "version": "3.7.9"
  }
 },
 "nbformat": 4,
 "nbformat_minor": 4
}
